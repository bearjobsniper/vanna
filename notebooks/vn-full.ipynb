{
 "cells": [
  {
   "attachments": {},
   "cell_type": "markdown",
   "metadata": {},
   "source": [
    "![Vanna AI](https://img.vanna.ai/vanna-full.svg)\n",
    "\n",
    "This notebook will help you unleash the full potential of AI-powered data analysis at your organization. We'll go through how to \"bulk train\" Vanna and generate SQL, tables, charts, and explanations, all with minimal code and effort. For more about Vanna, see our [intro blog post](https://medium.com/vanna-ai/intro-to-vanna-a-python-based-ai-sql-co-pilot-218c25b19c6a).\n",
    "\n",
    "[![Open In Colab](https://colab.research.google.com/assets/colab-badge.svg)](https://colab.research.google.com/github/vanna-ai/vanna-py/blob/main/notebooks/vn-full.ipynb)\n",
    "\n",
    "[![Open in GitHub](https://img.vanna.ai/github.svg)](https://github.com/vanna-ai/vanna-py/blob/main/notebooks/vn-full.ipynb)\n",
    "\n",
    "# Install Vanna\n",
    "First we install Vanna from [PyPI](https://pypi.org/project/vanna/) and import it.\n",
    "Here, we'll also install the Snowflake connector. If you're using a different database, you'll need to install the appropriate connector."
   ]
  },
  {
   "cell_type": "code",
   "execution_count": null,
   "metadata": {},
   "outputs": [],
   "source": [
    "%pip install vanna\n",
    "%pip install snowflake-connector-python"
   ]
  },
  {
   "cell_type": "code",
   "execution_count": null,
   "metadata": {},
   "outputs": [],
   "source": [
    "import vanna as vn\n",
    "import snowflake.connector\n",
    "import pandas as pd"
   ]
  },
  {
   "attachments": {},
   "cell_type": "markdown",
   "metadata": {},
   "source": [
    "# Login\n",
    "Creating a login and getting an API key is as easy as entering your email (after you run this cell) and entering the code we send to you. Check your Spam folder if you don't see the code."
   ]
  },
  {
   "cell_type": "code",
   "execution_count": null,
   "metadata": {},
   "outputs": [],
   "source": [
    "my_email = # Enter your email here\n",
    "vn.login(email=my_email)"
   ]
  },
  {
   "cell_type": "code",
   "execution_count": null,
   "metadata": {},
   "outputs": [],
   "source": [
    "user = ''  #@param {type:\"string\"}\n",
    "password=''  #@param {type:\"string\"}\n",
    "account='' #@param {type:\"string\"}\n",
    "database='' #@param {type:\"string\"}"
   ]
  },
  {
   "attachments": {},
   "cell_type": "markdown",
   "metadata": {},
   "source": [
    "# Set your Organization\n",
    "You need to choose a globally unique organization name. Try using your company name or another unique string. All data from organizations are isolated - there's no leakage."
   ]
  },
  {
   "cell_type": "code",
   "execution_count": null,
   "metadata": {},
   "outputs": [],
   "source": [
    "my_org = # Enter your organization here. This is a globally unique identifier for your organization.\n",
    "vn.set_org(my_org)"
   ]
  },
  {
   "attachments": {},
   "cell_type": "markdown",
   "metadata": {},
   "source": [
    "# Add Training Data\n",
    "Instead of adding question / SQL pairs one by one, let's load a bunch in from a JSON, all at once. You'll make your own JSON that represents your data. You can see the [format here](https://github.com/vanna-ai/vanna-training-queries/blob/main/tpc-h/questions.json)"
   ]
  },
  {
   "cell_type": "code",
   "execution_count": null,
   "metadata": {},
   "outputs": [],
   "source": [
    "training_json = \"https://raw.githubusercontent.com/vanna-ai/vanna-training-queries/main/tpc-h/questions.json\" #@param {type:\"string\"}\n",
    "\n",
    "for _, row in pd.read_json(training_json).iterrows():\n",
    "  vn.train(question=row.question, sql=row.sql)"
   ]
  },
  {
   "attachments": {},
   "cell_type": "markdown",
   "metadata": {},
   "source": [
    "# Get Results\n",
    "This gets the SQL, gets the dataframe, and prints them both. Note that we use your connection string to execute the SQL on your warehouse from your local instance. Your connection nor your data gets sent to Vanna's servers. For more info on how Vanna works, [see this post](https://medium.com/vanna-ai/how-vanna-works-how-to-train-it-data-security-8d8f2008042)."
   ]
  },
  {
   "cell_type": "code",
   "execution_count": null,
   "metadata": {},
   "outputs": [],
   "source": [
    "my_question = \"Who are the top 10 customers?\"  #@param {type:\"string\"}\n",
    "\n",
    "if my_question != \"\":\n",
    "    sql = vn.generate_sql(question=my_question)\n",
    "    print(sql)\n",
    "\n",
    "    conn = snowflake.connector.connect(user=user, password=password, account=account, database=database)\n",
    "    cs = conn.cursor()\n",
    "\n",
    "    # This function is provided as a convenience. You can choose to run your SQL\n",
    "    # however you normally do.\n",
    "    df = vn.get_results(cs, database, sql)\n",
    "    df"
   ]
  },
  {
   "attachments": {},
   "cell_type": "markdown",
   "metadata": {},
   "source": [
    "# Get Chart\n",
    "Vanna can also create a visualization. Pls note that if you supply the dataframe to \"generate_plotly_code\", that will send the dataframe to Vanna so we can better generate the chart. It's an optional argument."
   ]
  },
  {
   "cell_type": "code",
   "execution_count": null,
   "metadata": {},
   "outputs": [],
   "source": [
    "plotly_code = vn.generate_plotly_code(question=my_question, sql=sql, df=df)\n",
    "# print(plotly_code)\n",
    "fig = vn.get_plotly_figure(plotly_code=plotly_code, df=df)\n",
    "fig.show()"
   ]
  },
  {
   "attachments": {},
   "cell_type": "markdown",
   "metadata": {},
   "source": [
    "# Improve Your Training Data\n",
    "Did everything work well above? If so, improve your training data by adding the question / SQL pair to your organization's model's training data in one line of code."
   ]
  },
  {
   "cell_type": "code",
   "execution_count": null,
   "metadata": {},
   "outputs": [],
   "source": [
    "vn.store_sql(\n",
    "    question=my_question,\n",
    "    sql=sql,\n",
    ")"
   ]
  },
  {
   "attachments": {},
   "cell_type": "markdown",
   "metadata": {},
   "source": [
    "# Run as a Web App\n",
    "If you would like to use this functionality in a web app, you can deploy the Vanna Streamlit app and use your own secrets. See [this repo](https://github.com/vanna-ai/vanna-streamlit)."
   ]
  }
 ],
 "metadata": {
  "language_info": {
   "name": "python"
  },
  "orig_nbformat": 4
 },
 "nbformat": 4,
 "nbformat_minor": 2
}
