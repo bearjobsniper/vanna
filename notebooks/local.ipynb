{
 "cells": [
  {
   "cell_type": "code",
   "execution_count": 1,
   "metadata": {},
   "outputs": [],
   "source": [
    "import vanna.local as vn"
   ]
  },
  {
   "cell_type": "code",
   "execution_count": 2,
   "metadata": {},
   "outputs": [
    {
     "ename": "TypeError",
     "evalue": "Can't instantiate abstract class VannaBase with abstract methods generate_embedding, get_ddl, get_documentation, get_prompt, get_question_sql, get_related_ddl_ids, get_related_documentation_ids, get_similar_question_sql_ids, store_ddl, store_ddl_embedding, store_documentation, store_documentation_embedding, store_question, store_question_sql, store_question_sql_embedding, submit_prompt",
     "output_type": "error",
     "traceback": [
      "\u001b[0;31m---------------------------------------------------------------------------\u001b[0m",
      "\u001b[0;31mTypeError\u001b[0m                                 Traceback (most recent call last)",
      "Cell \u001b[0;32mIn[2], line 1\u001b[0m\n\u001b[0;32m----> 1\u001b[0m vn\u001b[39m.\u001b[39;49mVannaBase()\n",
      "\u001b[0;31mTypeError\u001b[0m: Can't instantiate abstract class VannaBase with abstract methods generate_embedding, get_ddl, get_documentation, get_prompt, get_question_sql, get_related_ddl_ids, get_related_documentation_ids, get_similar_question_sql_ids, store_ddl, store_ddl_embedding, store_documentation, store_documentation_embedding, store_question, store_question_sql, store_question_sql_embedding, submit_prompt"
     ]
    }
   ],
   "source": [
    "vn.VannaBase()"
   ]
  },
  {
   "cell_type": "code",
   "execution_count": 1,
   "metadata": {},
   "outputs": [],
   "source": [
    "from vanna.openai_embeddings import OpenAI_Embeddings"
   ]
  },
  {
   "cell_type": "code",
   "execution_count": 2,
   "metadata": {},
   "outputs": [
    {
     "ename": "TypeError",
     "evalue": "Can't instantiate abstract class OpenAI_Embeddings with abstract methods get_ddl, get_documentation, get_prompt, get_question_sql, get_related_ddl_ids, get_related_documentation_ids, get_similar_question_sql_ids, store_ddl, store_ddl_embedding, store_documentation, store_documentation_embedding, store_question, store_question_sql, store_question_sql_embedding, submit_prompt",
     "output_type": "error",
     "traceback": [
      "\u001b[0;31m---------------------------------------------------------------------------\u001b[0m",
      "\u001b[0;31mTypeError\u001b[0m                                 Traceback (most recent call last)",
      "Cell \u001b[0;32mIn[2], line 1\u001b[0m\n\u001b[0;32m----> 1\u001b[0m OpenAI_Embeddings()\n",
      "\u001b[0;31mTypeError\u001b[0m: Can't instantiate abstract class OpenAI_Embeddings with abstract methods get_ddl, get_documentation, get_prompt, get_question_sql, get_related_ddl_ids, get_related_documentation_ids, get_similar_question_sql_ids, store_ddl, store_ddl_embedding, store_documentation, store_documentation_embedding, store_question, store_question_sql, store_question_sql_embedding, submit_prompt"
     ]
    }
   ],
   "source": [
    "OpenAI_Embeddings()"
   ]
  },
  {
   "cell_type": "code",
   "execution_count": 1,
   "metadata": {},
   "outputs": [],
   "source": [
    "from vanna.mock import MockModel"
   ]
  },
  {
   "cell_type": "code",
   "execution_count": 2,
   "metadata": {},
   "outputs": [],
   "source": [
    "m = MockModel()"
   ]
  },
  {
   "cell_type": "code",
   "execution_count": null,
   "metadata": {},
   "outputs": [],
   "source": []
  }
 ],
 "metadata": {
  "kernelspec": {
   "display_name": "venv",
   "language": "python",
   "name": "python3"
  },
  "language_info": {
   "codemirror_mode": {
    "name": "ipython",
    "version": 3
   },
   "file_extension": ".py",
   "mimetype": "text/x-python",
   "name": "python",
   "nbconvert_exporter": "python",
   "pygments_lexer": "ipython3",
   "version": "3.11.2"
  },
  "orig_nbformat": 4
 },
 "nbformat": 4,
 "nbformat_minor": 2
}
