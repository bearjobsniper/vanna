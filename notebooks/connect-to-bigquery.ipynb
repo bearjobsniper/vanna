{
 "cells": [
  {
   "attachments": {},
   "cell_type": "markdown",
   "metadata": {},
   "source": [
    "# How to use Vanna with BigQuery"
   ]
  },
  {
   "cell_type": "code",
   "execution_count": null,
   "metadata": {},
   "outputs": [],
   "source": [
    "import vanna as vn"
   ]
  },
  {
   "attachments": {},
   "cell_type": "markdown",
   "metadata": {},
   "source": [
    "## **When Running on GCP**\n",
    "If you're running on a machine hosted on GCP, you likely already have credentials so you just have to specify the project"
   ]
  },
  {
   "cell_type": "code",
   "execution_count": null,
   "metadata": {},
   "outputs": [],
   "source": [
    "vn.connect_to_bigquery(\n",
    "    project_id=\"myprojectid\"\n",
    ")"
   ]
  },
  {
   "attachments": {},
   "cell_type": "markdown",
   "metadata": {},
   "source": [
    "## **When Running on Google Colab**\n",
    "Use colab auth to authenticate with your google account and then specify the project"
   ]
  },
  {
   "cell_type": "code",
   "execution_count": null,
   "metadata": {},
   "outputs": [],
   "source": [
    "from google.colab import auth\n",
    "auth.authenticate_user()\n",
    "\n",
    "vn.connect_to_bigquery(\n",
    "    project_id=\"myprojectid\"\n",
    ")"
   ]
  },
  {
   "attachments": {},
   "cell_type": "markdown",
   "metadata": {},
   "source": [
    "# Using a Credentials File\n",
    "You should only do this if you're running on a local machine and not on GCP or Colab"
   ]
  },
  {
   "cell_type": "code",
   "execution_count": null,
   "metadata": {},
   "outputs": [],
   "source": [
    "vn.connect_to_bigquery(\n",
    "    project_id=\"myprojectid\",\n",
    "    cred_file_path=\"path/to/credentials.json\",\n",
    ")"
   ]
  }
 ],
 "metadata": {
  "language_info": {
   "name": "python"
  },
  "orig_nbformat": 4
 },
 "nbformat": 4,
 "nbformat_minor": 2
}
