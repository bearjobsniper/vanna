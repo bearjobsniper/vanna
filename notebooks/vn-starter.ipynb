{
 "cells": [
  {
   "attachments": {},
   "cell_type": "markdown",
   "metadata": {},
   "source": [
    "![Vanna AI](https://img.vanna.ai/vanna-starter.svg)\n",
    "\n",
    "This notebook takes you through the most simple example of using Vanna. For more about Vanna, see our [intro blog post](https://medium.com/vanna-ai/intro-to-vanna-a-python-based-ai-sql-co-pilot-218c25b19c6a).\n",
    "\n",
    "[![Open In Colab](https://colab.research.google.com/assets/colab-badge.svg)](https://colab.research.google.com/github/vanna-ai/vanna-py/blob/main/notebooks/vn-starter.ipynb)\n",
    "\n",
    "[![Open in GitHub](https://img.vanna.ai/github.svg)](https://github.com/vanna-ai/vanna-py/blob/main/notebooks/vn-starter.ipynb)\n",
    "\n",
    "# Install Vanna\n",
    "First we install Vanna from [PyPI](https://pypi.org/project/vanna/) and import it."
   ]
  },
  {
   "cell_type": "code",
   "execution_count": null,
   "metadata": {},
   "outputs": [],
   "source": [
    "%pip install vanna"
   ]
  },
  {
   "cell_type": "code",
   "execution_count": 1,
   "metadata": {},
   "outputs": [],
   "source": [
    "import vanna as vn"
   ]
  },
  {
   "attachments": {},
   "cell_type": "markdown",
   "metadata": {},
   "source": [
    "# Login\n",
    "Creating a login and getting an API key is as easy as entering your email (after you run this cell) and entering the code we send to you. Check your Spam folder if you don't see the code."
   ]
  },
  {
   "cell_type": "code",
   "execution_count": 2,
   "metadata": {},
   "outputs": [],
   "source": [
    "api_key = vn.get_api_key('my-email@example.com')\n",
    "vn.set_api_key(api_key)"
   ]
  },
  {
   "attachments": {},
   "cell_type": "markdown",
   "metadata": {},
   "source": [
    "# Choose Model\n",
    "We need to choose which model we want to use. In this example, we use a demo model that every user on Vanna has access to called `demo-tpc-h`. This is the [default TPC dataset](https://www.tpc.org/tpch/) that comes with every installation of Snowflake and represents a small business. [Details about this dataset are here](https://docs.snowflake.com/en/user-guide/sample-data-tpch). The training data for this model is [here](https://github.com/vanna-ai/vanna-training-queries/blob/main/tpc-h/questions.json)"
   ]
  },
  {
   "cell_type": "code",
   "execution_count": 3,
   "metadata": {},
   "outputs": [],
   "source": [
    "vn.set_model('demo-tpc-h')"
   ]
  },
  {
   "attachments": {},
   "cell_type": "markdown",
   "metadata": {},
   "source": [
    "# Ask a Question"
   ]
  },
  {
   "cell_type": "code",
   "execution_count": 4,
   "metadata": {},
   "outputs": [
    {
     "name": "stdout",
     "output_type": "stream",
     "text": [
      "SELECT c.c_name as customer_name,\n",
      "       sum(l.l_extendedprice * (1 - l.l_discount)) as total_sales\n",
      "FROM   snowflake_sample_data.tpch_sf1.customer c join snowflake_sample_data.tpch_sf1.orders o\n",
      "        ON c.c_custkey = o.o_custkey join snowflake_sample_data.tpch_sf1.lineitem l\n",
      "        ON o.o_orderkey = l.l_orderkey\n",
      "GROUP BY customer_name\n",
      "ORDER BY total_sales desc limit 10;\n"
     ]
    }
   ],
   "source": [
    "vn.ask(question='What are the top 10 customers by Sales?')"
   ]
  },
  {
   "attachments": {},
   "cell_type": "markdown",
   "metadata": {},
   "source": [
    "# Want to use Vanna with your own data?\n",
    "\n",
    "Get started with [this notebook](https://github.com/vanna-ai/vanna-py/blob/main/notebooks/vn-training.ipynb)."
   ]
  },
  {
   "attachments": {},
   "cell_type": "markdown",
   "metadata": {},
   "source": []
  }
 ],
 "metadata": {
  "kernelspec": {
   "display_name": "Python 3 (ipykernel)",
   "language": "python",
   "name": "python3"
  },
  "language_info": {
   "codemirror_mode": {
    "name": "ipython",
    "version": 3
   },
   "file_extension": ".py",
   "mimetype": "text/x-python",
   "name": "python",
   "nbconvert_exporter": "python",
   "pygments_lexer": "ipython3",
   "version": "3.11.2"
  }
 },
 "nbformat": 4,
 "nbformat_minor": 4
}
