{
 "cells": [
  {
   "attachments": {},
   "cell_type": "markdown",
   "metadata": {},
   "source": [
    "![Vanna AI](https://img.vanna.ai/vanna-training.svg)\n",
    "\n",
    "This notebook will take you through how to use Vanna on your own data, including training an isolated model for your schema / organization. For more about Vanna, see our [intro blog post](https://medium.com/vanna-ai/intro-to-vanna-a-python-based-ai-sql-co-pilot-218c25b19c6a).\n",
    "\n",
    "[![Open In Colab](https://colab.research.google.com/assets/colab-badge.svg)](https://colab.research.google.com/github/vanna-ai/vanna-py/blob/main/notebooks/vn-training.ipynb)\n",
    "\n",
    "[![Open in GitHub](https://img.vanna.ai/github.svg)](https://github.com/vanna-ai/vanna-py/blob/main/notebooks/vn-training.ipynb)\n",
    "\n",
    "# Install Vanna\n",
    "First we install Vanna from [PyPI](https://pypi.org/project/vanna/) and import it."
   ]
  },
  {
   "cell_type": "code",
   "execution_count": null,
   "metadata": {},
   "outputs": [],
   "source": [
    "%pip install vanna"
   ]
  },
  {
   "cell_type": "code",
   "execution_count": null,
   "metadata": {},
   "outputs": [],
   "source": [
    "import vanna as vn"
   ]
  },
  {
   "attachments": {},
   "cell_type": "markdown",
   "metadata": {},
   "source": [
    "# Login\n",
    "Creating a login and getting an API key is as easy as entering your email (after you run this cell) and entering the code we send to you. Check your Spam folder if you don't see the code."
   ]
  },
  {
   "cell_type": "code",
   "execution_count": null,
   "metadata": {},
   "outputs": [],
   "source": [
    "my_email = # Enter your email here\n",
    "vn.login(email=my_email)"
   ]
  },
  {
   "attachments": {},
   "cell_type": "markdown",
   "metadata": {},
   "source": [
    "# Set your Dataset\n",
    "You need to choose a globally unique organization name. Try using your company name or another unique string. All data from datasets are isolated - there's no leakage. Datasets are private by default. You can add other users to your dataset later."
   ]
  },
  {
   "cell_type": "code",
   "execution_count": null,
   "metadata": {},
   "outputs": [],
   "source": [
    "my_dataset = # Enter your dataset name here. This is a globally unique identifier for your dataset.\n",
    "vn.use_datasets([my_dataset])"
   ]
  },
  {
   "attachments": {},
   "cell_type": "markdown",
   "metadata": {},
   "source": [
    "# Training\n",
    "Vanna needs to learn about your schema. Take some prior SQL queries and the questions associated with them and enter them below. The ones we've done reflect a fictitious dataset that you'll want to replace with your own queries and questions."
   ]
  },
  {
   "cell_type": "code",
   "execution_count": null,
   "metadata": {},
   "outputs": [],
   "source": [
    "vn.store_sql(\n",
    "    question='What are the top 10 customers?',\n",
    "    sql='SELECT customer_name, sales FROM customers ORDER BY sales desc LIMIT 10'\n",
    ")"
   ]
  },
  {
   "cell_type": "code",
   "execution_count": null,
   "metadata": {},
   "outputs": [],
   "source": [
    "vn.store_sql(\n",
    "    question='What are the top 10 customers in the US?',\n",
    "    sql=\"SELECT customer_name, sales FROM customers WHERE country_name = 'UNITED STATES' ORDER BY sales desc LIMIT 10\"\n",
    ")"
   ]
  },
  {
   "cell_type": "code",
   "execution_count": null,
   "metadata": {},
   "outputs": [],
   "source": [
    "vn.store_sql(\n",
    "    question='How many regions are there?',\n",
    "    sql='SELECT DISTINCT region FROM customers'\n",
    ")"
   ]
  },
  {
   "attachments": {},
   "cell_type": "markdown",
   "metadata": {},
   "source": [
    "# Generate SQL\n",
    "Ok, now we are ready to ask plain English questions and see whether Vanna can answer them! Once you get the SQL back, you can execute in Jupyter or on another interface."
   ]
  },
  {
   "cell_type": "code",
   "execution_count": null,
   "metadata": {},
   "outputs": [],
   "source": [
    "sql = vn.generate_sql('How many customers are there in each region?')\n",
    "print(sql)"
   ]
  },
  {
   "attachments": {},
   "cell_type": "markdown",
   "metadata": {},
   "source": [
    "# Read the [Full Documentation Reference](https://docs.vanna.ai) for More Functionality\n",
    "\n",
    "So that was cool, but there's more. Vanna can actually execute the SQL (in a privacy / security safe manner), generate explanations for what the SQL is doing, and even generate visualizations. [Click here](https://github.com/vanna-ai/vanna-notebooks/blob/main/vn-full.ipynb) for the next notebook that goes through this."
   ]
  },
  {
   "attachments": {},
   "cell_type": "markdown",
   "metadata": {},
   "source": []
  }
 ],
 "metadata": {
  "language_info": {
   "name": "python"
  },
  "orig_nbformat": 4
 },
 "nbformat": 4,
 "nbformat_minor": 2
}
